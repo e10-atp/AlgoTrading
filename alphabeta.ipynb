{
 "metadata": {
  "language_info": {
   "codemirror_mode": {
    "name": "ipython",
    "version": 3
   },
   "file_extension": ".py",
   "mimetype": "text/x-python",
   "name": "python",
   "nbconvert_exporter": "python",
   "pygments_lexer": "ipython3",
   "version": "3.7.6-final"
  },
  "orig_nbformat": 2,
  "kernelspec": {
   "name": "python3",
   "display_name": "Python 3",
   "language": "python"
  }
 },
 "nbformat": 4,
 "nbformat_minor": 2,
 "cells": [
  {
   "cell_type": "code",
   "execution_count": 1,
   "metadata": {},
   "outputs": [],
   "source": [
    "import stockdata as sd\n",
    "import pandas as pd\n",
    "import os\n",
    "import yfinance as yf\n",
    "import scipy.optimize as spo\n",
    "import numpy as np"
   ]
  },
  {
   "cell_type": "code",
   "execution_count": 2,
   "metadata": {},
   "outputs": [],
   "source": [
    "period = '6mo'"
   ]
  },
  {
   "cell_type": "code",
   "execution_count": 3,
   "metadata": {},
   "outputs": [],
   "source": [
    "spy = sd.normalize(yf.Ticker('SPY').history(period=period)['Close'])"
   ]
  },
  {
   "cell_type": "code",
   "execution_count": 4,
   "metadata": {},
   "outputs": [],
   "source": [
    "spydr = sd.calc_dr(spy)"
   ]
  },
  {
   "cell_type": "code",
   "execution_count": 5,
   "metadata": {},
   "outputs": [
    {
     "output_type": "stream",
     "name": "stdout",
     "text": [
      "[*********************100%***********************]  503 of 503 completed\n",
      "\n",
      "2 Failed downloads:\n",
      "- CTL: No data found, symbol may be delisted\n",
      "- MYL: No data found, symbol may be delisted\n"
     ]
    }
   ],
   "source": [
    "data = sd.fetch_data(period, 'sp500.txt')"
   ]
  },
  {
   "cell_type": "code",
   "execution_count": 6,
   "metadata": {},
   "outputs": [],
   "source": [
    "sd.fill_gaps(spy)"
   ]
  },
  {
   "cell_type": "code",
   "execution_count": 7,
   "metadata": {},
   "outputs": [],
   "source": [
    "sd.fill_gaps(data)"
   ]
  },
  {
   "cell_type": "code",
   "execution_count": 8,
   "metadata": {},
   "outputs": [],
   "source": [
    "close = sd.get_close(data)"
   ]
  },
  {
   "cell_type": "code",
   "execution_count": 9,
   "metadata": {},
   "outputs": [],
   "source": [
    "for date in close.index:\n",
    "    if date not in spy.index:\n",
    "        close.drop(date, inplace=True)"
   ]
  },
  {
   "cell_type": "code",
   "execution_count": 10,
   "metadata": {},
   "outputs": [],
   "source": [
    "dr = sd.calc_dr(close)"
   ]
  },
  {
   "cell_type": "code",
   "execution_count": 11,
   "metadata": {},
   "outputs": [],
   "source": [
    "def find_fit(xSer, ySer):\n",
    "        if not xSer.index.equals(ySer.index):\n",
    "            raise Exception('Regression: Indexes do not match')\n",
    "        xBar = xSer.mean() #SPY mean\n",
    "        yBar = ySer.mean() #Other mean\n",
    "        xyBar = xSer.multiply(ySer).mean()\n",
    "        x2Bar = (xSer ** 2).mean()\n",
    "        xBar2 = xBar ** 2\n",
    "        m = (xBar * yBar - xyBar) / (xBar2 - x2Bar) #beta\n",
    "        yInt = yBar - m * xBar #alpha\n",
    "        return m, yInt"
   ]
  },
  {
   "cell_type": "code",
   "execution_count": 12,
   "metadata": {},
   "outputs": [],
   "source": [
    "greek = pd.DataFrame(columns = ['Alpha', 'Beta'])"
   ]
  },
  {
   "cell_type": "code",
   "execution_count": 13,
   "metadata": {},
   "outputs": [],
   "source": [
    "for ticker in dr.columns.values:\n",
    "    beta, alpha = find_fit(spydr, dr[ticker])\n",
    "    greek.loc[ticker] = [alpha, beta]"
   ]
  },
  {
   "cell_type": "code",
   "execution_count": 14,
   "metadata": {},
   "outputs": [],
   "source": [
    "greek.sort_values(by=['Alpha'],axis=0, ascending=False, inplace=True)"
   ]
  },
  {
   "cell_type": "code",
   "execution_count": 16,
   "metadata": {},
   "outputs": [
    {
     "output_type": "execute_result",
     "data": {
      "text/plain": [
       "          Alpha      Beta\n",
       "TSLA   0.006605  1.963870\n",
       "TPR    0.006448  0.687966\n",
       "VIAC   0.005019  0.353135\n",
       "IVZ    0.004957  1.075949\n",
       "DISCA  0.004909  0.633638\n",
       "GM     0.004794  0.938253\n",
       "MOS    0.004699  0.899493\n",
       "FCX    0.004595  1.411964\n",
       "SIVB   0.004398  0.952551\n",
       "ALB    0.004221  1.412281\n",
       "ETSY   0.004114  1.024644\n",
       "DISCK  0.004052  0.966427\n",
       "GE     0.003705  0.754488\n",
       "PWR    0.003675  0.867122\n",
       "ALGN   0.003623  1.296272\n",
       "PVH    0.003410  1.232461\n",
       "MHK    0.003387  1.088113\n",
       "DFS    0.003122  1.178852\n",
       "DE     0.003109  0.781994\n",
       "LB     0.003080  1.273757"
      ],
      "text/html": "<div>\n<style scoped>\n    .dataframe tbody tr th:only-of-type {\n        vertical-align: middle;\n    }\n\n    .dataframe tbody tr th {\n        vertical-align: top;\n    }\n\n    .dataframe thead th {\n        text-align: right;\n    }\n</style>\n<table border=\"1\" class=\"dataframe\">\n  <thead>\n    <tr style=\"text-align: right;\">\n      <th></th>\n      <th>Alpha</th>\n      <th>Beta</th>\n    </tr>\n  </thead>\n  <tbody>\n    <tr>\n      <th>TSLA</th>\n      <td>0.006605</td>\n      <td>1.963870</td>\n    </tr>\n    <tr>\n      <th>TPR</th>\n      <td>0.006448</td>\n      <td>0.687966</td>\n    </tr>\n    <tr>\n      <th>VIAC</th>\n      <td>0.005019</td>\n      <td>0.353135</td>\n    </tr>\n    <tr>\n      <th>IVZ</th>\n      <td>0.004957</td>\n      <td>1.075949</td>\n    </tr>\n    <tr>\n      <th>DISCA</th>\n      <td>0.004909</td>\n      <td>0.633638</td>\n    </tr>\n    <tr>\n      <th>GM</th>\n      <td>0.004794</td>\n      <td>0.938253</td>\n    </tr>\n    <tr>\n      <th>MOS</th>\n      <td>0.004699</td>\n      <td>0.899493</td>\n    </tr>\n    <tr>\n      <th>FCX</th>\n      <td>0.004595</td>\n      <td>1.411964</td>\n    </tr>\n    <tr>\n      <th>SIVB</th>\n      <td>0.004398</td>\n      <td>0.952551</td>\n    </tr>\n    <tr>\n      <th>ALB</th>\n      <td>0.004221</td>\n      <td>1.412281</td>\n    </tr>\n    <tr>\n      <th>ETSY</th>\n      <td>0.004114</td>\n      <td>1.024644</td>\n    </tr>\n    <tr>\n      <th>DISCK</th>\n      <td>0.004052</td>\n      <td>0.966427</td>\n    </tr>\n    <tr>\n      <th>GE</th>\n      <td>0.003705</td>\n      <td>0.754488</td>\n    </tr>\n    <tr>\n      <th>PWR</th>\n      <td>0.003675</td>\n      <td>0.867122</td>\n    </tr>\n    <tr>\n      <th>ALGN</th>\n      <td>0.003623</td>\n      <td>1.296272</td>\n    </tr>\n    <tr>\n      <th>PVH</th>\n      <td>0.003410</td>\n      <td>1.232461</td>\n    </tr>\n    <tr>\n      <th>MHK</th>\n      <td>0.003387</td>\n      <td>1.088113</td>\n    </tr>\n    <tr>\n      <th>DFS</th>\n      <td>0.003122</td>\n      <td>1.178852</td>\n    </tr>\n    <tr>\n      <th>DE</th>\n      <td>0.003109</td>\n      <td>0.781994</td>\n    </tr>\n    <tr>\n      <th>LB</th>\n      <td>0.003080</td>\n      <td>1.273757</td>\n    </tr>\n  </tbody>\n</table>\n</div>"
     },
     "metadata": {},
     "execution_count": 16
    }
   ],
   "source": [
    "greek.head(20)"
   ]
  }
 ]
}